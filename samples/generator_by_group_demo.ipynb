{
 "cells": [
  {
   "cell_type": "code",
   "execution_count": 1,
   "metadata": {
    "collapsed": true
   },
   "outputs": [],
   "source": [
    "from data_generator import DataGeneratorByGroup\n",
    "import numpy as np\n"
   ]
  },
  {
   "cell_type": "code",
   "execution_count": 2,
   "metadata": {
    "collapsed": false
   },
   "outputs": [
    {
     "name": "stdout",
     "output_type": "stream",
     "text": [
      "(290, 304472)\n",
      "float64\n",
      "(290,)\n",
      "int64\n"
     ]
    }
   ],
   "source": [
    "data = np.load('/home/aulloa/Documents/data/smriqc.npy')\n",
    "labels = np.load('/home/aulloa/Documents/data/labelsqc.npy')\n",
    "\n",
    "print(data.shape)\n",
    "print(data.dtype)\n",
    "print(labels.shape)\n",
    "print(labels.dtype)"
   ]
  },
  {
   "cell_type": "code",
   "execution_count": 3,
   "metadata": {
    "collapsed": false
   },
   "outputs": [
    {
     "name": "stdout",
     "output_type": "stream",
     "text": [
      "(290, 20)\n",
      "[0 1 0 0 0 1 0 0 0 1 0 1 0 0 1 1 0 1 1 0 1 0 1 0 1 1 0 0 1 0 0 0 0 0 0 1 0\n",
      " 1 0 0 1 0 0 1 0 1 1 1 1 1 1 0 1 0 0 1 0 0 0 1 1 0 0 1 1 0 0 1 1 0 0 0 0 1\n",
      " 1 0 1 0 0 1 0 1 1 1 0 1 0 0 1 0 1 0 1 0 1 1 1 0 1 1 1 0 1 0 1 0 0 0 1 1 0\n",
      " 0 0 0 0 0 1 0 1 1 0 1 1 0 0 0 0 1 1 0 1 1 0 0 1 0 1 0 1 0 0 1 0 1 1 0 0 0\n",
      " 1 1 0 1 0 0 0 0 1 1 1 0 0 0 1 0 0 1 0 0 1 0 0 0 0 0 1 1 0 1 0 0 1 0 1 1 0\n",
      " 1 0 0 0 0 1 0 0 0 1 1 1 1 1 1 0 0 0 1 0 0 1 1 1 1 0 0 0 0 0 0 0 0 0 1 0 1\n",
      " 1 1 0 0 0 1 1 0 1 1 0 0 0 0 1 1 1 0 1 1 1 1 1 0 1 1 0 0 0 1 0 0 0 0 0 0 0\n",
      " 1 0 0 1 1 0 0 0 1 0 0 0 1 0 1 0 0 0 1 0 1 1 1 0 1 1 1 0 1 0 1]\n",
      "[[  1.19711719e-02  -4.73730825e-03   2.24912446e-03 ...,   4.80979774e-03\n",
      "   -7.07528815e-02   3.67015749e-02]\n",
      " [  2.34708246e-02  -5.07986080e-03   2.31385161e-03 ...,   1.60695100e-03\n",
      "   -6.77103326e-02   3.45417522e-02]\n",
      " [  2.15334781e-02  -4.57358500e-03   1.29169598e-03 ...,  -5.43460483e-05\n",
      "   -6.44952506e-02   3.53479795e-02]\n",
      " ..., \n",
      " [  1.26500167e-02  -6.63491711e-03   4.66887187e-03 ...,   4.33625886e-03\n",
      "   -7.40615353e-02   3.87872085e-02]\n",
      " [  1.89804640e-02  -4.03001392e-03   5.17043099e-03 ...,   5.27321245e-05\n",
      "   -7.16137365e-02   4.54171598e-02]\n",
      " [  1.92437265e-02  -4.69828304e-03   9.54255229e-04 ...,  -1.18589331e-03\n",
      "   -6.80249929e-02   3.39806154e-02]]\n",
      "[ 0.01739094 -0.00461581  0.0016437   0.07950448  0.00670435 -0.01160482\n",
      "  0.02000653 -0.00436707 -0.00865799 -0.00221859 -0.00997354  0.01897293\n",
      "  0.00259394 -0.00419385 -0.01574717  0.00424448  0.00307094  0.00042425\n",
      " -0.06668364  0.03801861]\n",
      "(2000, 304472)\n"
     ]
    }
   ],
   "source": [
    "gen = DataGeneratorByGroup(data=data, labels=labels,\n",
    "                           n_components=20, n_samples=1000,\n",
    "                           n_batches=1, method='normal')\n",
    "\n",
    "new_data = next(gen)\n",
    "print(new_data.shape)"
   ]
  },
  {
   "cell_type": "code",
   "execution_count": 6,
   "metadata": {
    "collapsed": false
   },
   "outputs": [],
   "source": [
    "np.save('/home/aulloa/Documents/data/fake_smri.npy', new_data)"
   ]
  },
  {
   "cell_type": "code",
   "execution_count": 7,
   "metadata": {
    "collapsed": true
   },
   "outputs": [],
   "source": [
    "np.save('/home/aulloa/Documents/data/fake_labels.npy',np.array([0]*1000 + [1]*1000))"
   ]
  }
 ],
 "metadata": {
  "kernelspec": {
   "display_name": "Python 3",
   "language": "python",
   "name": "python3"
  },
  "language_info": {
   "codemirror_mode": {
    "name": "ipython",
    "version": 3
   },
   "file_extension": ".py",
   "mimetype": "text/x-python",
   "name": "python",
   "nbconvert_exporter": "python",
   "pygments_lexer": "ipython3",
   "version": "3.4.0"
  }
 },
 "nbformat": 4,
 "nbformat_minor": 0
}
